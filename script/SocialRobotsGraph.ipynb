{
 "cells": [
  {
   "cell_type": "markdown",
   "id": "51103a55-58bb-491e-910b-0f0222d78d7a",
   "metadata": {},
   "source": [
    "# KGTK tutorial with Social Robots Graph"
   ]
  },
  {
   "cell_type": "markdown",
   "id": "0aad9f32-4949-44ec-8869-eef643e988f4",
   "metadata": {},
   "source": [
    "## Importing libreries from kgtk"
   ]
  },
  {
   "cell_type": "code",
   "execution_count": 1,
   "id": "20f4018c-7399-4e49-8a86-ff1091d16cc7",
   "metadata": {},
   "outputs": [],
   "source": [
    "import io\n",
    "import os\n",
    "import sys\n",
    "\n",
    "from kgtk.configure_kgtk_notebooks import ConfigureKGTK\n",
    "from kgtk.functions import kgtk, kypher"
   ]
  },
  {
   "cell_type": "markdown",
   "id": "b56d9380-c6b8-4f72-b9e8-06ff6facf51a",
   "metadata": {},
   "source": [
    "## Converting a ttl file to ntriples format"
   ]
  },
  {
   "cell_type": "code",
   "execution_count": 2,
   "id": "37a00406-5350-415f-80b0-42a24c533b09",
   "metadata": {},
   "outputs": [],
   "source": [
    "cat /home/saulo/script/ConversationRobotsTriplas.ttl | graphy read -c ttl / tree / write -c ntriples > /home/saulo/script/ConversationRobotsTriplas2.nt"
   ]
  },
  {
   "cell_type": "markdown",
   "id": "f37f8ba3-0592-4027-8bba-a72a837a6ff6",
   "metadata": {},
   "source": [
    "## Import ntriples"
   ]
  },
  {
   "cell_type": "markdown",
   "id": "8ecd7df2-6c54-479b-9038-a6414ad092db",
   "metadata": {},
   "source": [
    "##### Import the ntriples file into kgtk format, using default settings."
   ]
  },
  {
   "cell_type": "code",
   "execution_count": 4,
   "id": "f914ecad-fd7f-4e38-8fc4-f147c832b6a3",
   "metadata": {},
   "outputs": [
    {
     "ename": "SyntaxError",
     "evalue": "invalid syntax (95823605.py, line 1)",
     "output_type": "error",
     "traceback": [
      "\u001b[0;36m  Cell \u001b[0;32mIn[4], line 1\u001b[0;36m\u001b[0m\n\u001b[0;31m    kgtk import-ntriples -i '/home/saulo/script/ConversationRobotsTriplas2.nt' -o '/home/saulo/script/ConversationRobotsTriplas2.tsv'\u001b[0m\n\u001b[0m         ^\u001b[0m\n\u001b[0;31mSyntaxError\u001b[0m\u001b[0;31m:\u001b[0m invalid syntax\n"
     ]
    }
   ],
   "source": [
    "kgtk import-ntriples -i /home/saulo/script/ConversationRobotsTriplas2.nt -o /home/saulo/script/ConversationRobotsTriplas2.tsv"
   ]
  },
  {
   "cell_type": "markdown",
   "id": "691e0aac-3e0a-444d-89e2-330a7cbad8fa",
   "metadata": {},
   "source": [
    "## Visualize graph"
   ]
  },
  {
   "cell_type": "markdown",
   "id": "360cd503-7b38-4a24-a145-901c249d6372",
   "metadata": {},
   "source": [
    "##### Default version of visualize graph command, producing a graph with default color, width and size"
   ]
  },
  {
   "cell_type": "code",
   "execution_count": 13,
   "id": "b9c391c3-41eb-4967-96ba-a2eaa3672d2b",
   "metadata": {},
   "outputs": [],
   "source": [
    "kgtk(\"\"\"visualize-graph -i ConversationRobotsTriplas2.tsv -o Graph.html\"\"\")"
   ]
  },
  {
   "cell_type": "code",
   "execution_count": 3,
   "id": "0a6e9451-8bc8-4dd5-8cab-5d9a91165d24",
   "metadata": {},
   "outputs": [],
   "source": [
    "kgtk(\"\"\"graph-statistics -i ConversationRobotsTriplas2.tsv --log-file summary.txt -o summary.txt\"\"\")"
   ]
  },
  {
   "cell_type": "code",
   "execution_count": null,
   "id": "6cb9193e-c4d5-411f-8aa5-bb0138331d4f",
   "metadata": {},
   "outputs": [],
   "source": [
    "kgtk graph-statistics -i ConversationRobotsTriplas2.tsv --log-file summary.txt"
   ]
  },
  {
   "cell_type": "markdown",
   "id": "308660a5-ce68-4cf8-a075-af0f7dd83a2a",
   "metadata": {},
   "source": [
    "## Add-id command"
   ]
  },
  {
   "cell_type": "markdown",
   "id": "b575b05b-eb3a-45d8-8d0a-a8cb905018e4",
   "metadata": {},
   "source": [
    "##### The add-id command picks up and copies its input file to its output file, adding an ID column. "
   ]
  },
  {
   "cell_type": "code",
   "execution_count": null,
   "id": "e5743865-b364-4f37-817a-8c4a433e40cc",
   "metadata": {},
   "outputs": [],
   "source": [
    "kgtk(\"\"\"add-id -i /home/jovyan/work/kgtkTutorial/objetivo1/ejemplo/total/BeatlesTotal.tsv -o idBeatles.tsv\"\"\")"
   ]
  },
  {
   "cell_type": "markdown",
   "id": "c080af12-f692-4a64-b6cd-b39e149f798f",
   "metadata": {},
   "source": [
    "## Quitar los prefijos"
   ]
  },
  {
   "cell_type": "code",
   "execution_count": 14,
   "id": "b7c3aaa9-595f-4a8a-ae49-854957251423",
   "metadata": {},
   "outputs": [
    {
     "name": "stdout",
     "output_type": "stream",
     "text": [
      "Archivo procesado y guardado como 'ConversationRobotsTriplas_sin_prefijos2.tsv'\n"
     ]
    }
   ],
   "source": [
    "import pandas as pd\n",
    "\n",
    "# Leer el archivo TSV\n",
    "df = pd.read_csv('ConversationRobotsTriplas2.tsv', sep='\\t')\n",
    "\n",
    "# Función para eliminar el prefijo antes de los dos puntos (:), pero no modificar fechas\n",
    "def remove_prefix(value):\n",
    "    if pd.isna(value):\n",
    "        return value\n",
    "    if isinstance(value, str) and value.startswith('^'):\n",
    "        return value\n",
    "    return value.split(':')[-1] if ':' in value else value\n",
    "\n",
    "# Aplicar la función a las columnas node1, label y node2\n",
    "df['node1'] = df['node1'].apply(remove_prefix)\n",
    "df['label'] = df['label'].apply(remove_prefix)\n",
    "df['node2'] = df['node2'].apply(remove_prefix)\n",
    "\n",
    "# Guardar el DataFrame resultante en un nuevo archivo TSV\n",
    "df.to_csv('ConversationRobotsTriplas_sin_prefijos2.tsv', sep='\\t', index=False)\n",
    "\n",
    "print(\"Archivo procesado y guardado como 'ConversationRobotsTriplas_sin_prefijos2.tsv'\")\n"
   ]
  },
  {
   "cell_type": "markdown",
   "id": "5fb73262-7dbd-4ed0-bad5-3126fb80ade4",
   "metadata": {},
   "source": [
    "## Converting TSV to CSV"
   ]
  },
  {
   "cell_type": "code",
   "execution_count": 15,
   "id": "736685c7-c952-4004-b529-8b4e25b6a5d4",
   "metadata": {},
   "outputs": [
    {
     "name": "stdout",
     "output_type": "stream",
     "text": [
      "Archivo TSV convertido a CSV y guardado en ConversationRobotsTriplas_sin_prefijos2.csv\n"
     ]
    }
   ],
   "source": [
    "import pandas as pd\n",
    "\n",
    "# Ruta del archivo TSV de entrada\n",
    "input_tsv = 'ConversationRobotsTriplas_sin_prefijos2.tsv'\n",
    "\n",
    "# Ruta del archivo CSV de salida\n",
    "output_csv = 'ConversationRobotsTriplas_sin_prefijos2.csv'\n",
    "\n",
    "# Leer el archivo TSV\n",
    "df = pd.read_csv(input_tsv, delimiter='\\t')\n",
    "\n",
    "# Guardar el DataFrame como CSV\n",
    "df.to_csv(output_csv, index=False)\n",
    "\n",
    "print(f\"Archivo TSV convertido a CSV y guardado en {output_csv}\")\n"
   ]
  },
  {
   "cell_type": "markdown",
   "id": "6225bedd-b063-451c-9d19-b8a1a7bdb07a",
   "metadata": {},
   "source": [
    "## More visualizations options"
   ]
  },
  {
   "cell_type": "code",
   "execution_count": 7,
   "id": "f5a1eaa3-3c54-41d3-9c0a-e7fcf1949cfc",
   "metadata": {},
   "outputs": [],
   "source": [
    "!kgtk visualize-graph -i \"RobotsExample1_sin_prefijos.tsv\" \\\n",
    "                     --node-color-hex \\\n",
    "                     --show-text above \\\n",
    "                     -o GRAPH.html"
   ]
  },
  {
   "cell_type": "code",
   "execution_count": null,
   "id": "eddf8778-9130-4596-8851-acfcaf55e104",
   "metadata": {},
   "outputs": [],
   "source": []
  }
 ],
 "metadata": {
  "kernelspec": {
   "display_name": "Python 3 (ipykernel)",
   "language": "python",
   "name": "python3"
  },
  "language_info": {
   "codemirror_mode": {
    "name": "ipython",
    "version": 3
   },
   "file_extension": ".py",
   "mimetype": "text/x-python",
   "name": "python",
   "nbconvert_exporter": "python",
   "pygments_lexer": "ipython3",
   "version": "3.9.18"
  }
 },
 "nbformat": 4,
 "nbformat_minor": 5
}
