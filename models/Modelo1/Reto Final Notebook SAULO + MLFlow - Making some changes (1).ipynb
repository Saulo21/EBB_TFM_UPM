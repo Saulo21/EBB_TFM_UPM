{
 "cells": [
  {
   "cell_type": "markdown",
   "id": "894123b4",
   "metadata": {},
   "source": [
    "# Reto Final - Notebook Individual Saulo Nuez Ortega"
   ]
  },
  {
   "cell_type": "markdown",
   "id": "5559d603",
   "metadata": {},
   "source": [
    "## Importando  y analizando conjunto de datos"
   ]
  },
  {
   "cell_type": "code",
   "execution_count": 1,
   "id": "f5a6a9e3",
   "metadata": {},
   "outputs": [],
   "source": [
    "import numpy as np\n",
    "import pandas as pd"
   ]
  },
  {
   "cell_type": "code",
   "execution_count": 2,
   "id": "5ec80e8e",
   "metadata": {
    "scrolled": true
   },
   "outputs": [
    {
     "data": {
      "text/html": [
       "<div>\n",
       "<style scoped>\n",
       "    .dataframe tbody tr th:only-of-type {\n",
       "        vertical-align: middle;\n",
       "    }\n",
       "\n",
       "    .dataframe tbody tr th {\n",
       "        vertical-align: top;\n",
       "    }\n",
       "\n",
       "    .dataframe thead th {\n",
       "        text-align: right;\n",
       "    }\n",
       "</style>\n",
       "<table border=\"1\" class=\"dataframe\">\n",
       "  <thead>\n",
       "    <tr style=\"text-align: right;\">\n",
       "      <th></th>\n",
       "      <th>label</th>\n",
       "      <th>text</th>\n",
       "    </tr>\n",
       "  </thead>\n",
       "  <tbody>\n",
       "    <tr>\n",
       "      <th>0</th>\n",
       "      <td>0</td>\n",
       "      <td>Hi Roy hope you are ok, Trans people are not g...</td>\n",
       "    </tr>\n",
       "    <tr>\n",
       "      <th>1</th>\n",
       "      <td>0</td>\n",
       "      <td>But fuckin' hell what even is biology</td>\n",
       "    </tr>\n",
       "    <tr>\n",
       "      <th>2</th>\n",
       "      <td>0</td>\n",
       "      <td>Whose the nice looking clergyman?</td>\n",
       "    </tr>\n",
       "    <tr>\n",
       "      <th>3</th>\n",
       "      <td>1</td>\n",
       "      <td>AIDS ARE IN YOUR WAY, SIN HAS CONSEQUENCES AND...</td>\n",
       "    </tr>\n",
       "    <tr>\n",
       "      <th>4</th>\n",
       "      <td>0</td>\n",
       "      <td>to learn</td>\n",
       "    </tr>\n",
       "  </tbody>\n",
       "</table>\n",
       "</div>"
      ],
      "text/plain": [
       "   label                                               text\n",
       "0      0  Hi Roy hope you are ok, Trans people are not g...\n",
       "1      0              But fuckin' hell what even is biology\n",
       "2      0                  Whose the nice looking clergyman?\n",
       "3      1  AIDS ARE IN YOUR WAY, SIN HAS CONSEQUENCES AND...\n",
       "4      0                                           to learn"
      ]
     },
     "execution_count": 2,
     "metadata": {},
     "output_type": "execute_result"
    }
   ],
   "source": [
    "data = pd.read_csv('dataset.csv')\n",
    "test = pd.read_csv('test_nolabel.csv')\n",
    "\n",
    "data.head()"
   ]
  },
  {
   "cell_type": "markdown",
   "id": "3f3eec0f",
   "metadata": {},
   "source": [
    "### Analisis de los datos"
   ]
  },
  {
   "cell_type": "code",
   "execution_count": 3,
   "id": "694aefad",
   "metadata": {},
   "outputs": [
    {
     "name": "stderr",
     "output_type": "stream",
     "text": [
      "/tmp/ipykernel_13172/31409169.py:9: FutureWarning: \n",
      "\n",
      "Passing `palette` without assigning `hue` is deprecated and will be removed in v0.14.0. Assign the `x` variable to `hue` and set `legend=False` for the same effect.\n",
      "\n",
      "  ax = sns.barplot(x=conteo_labels.index, y=conteo_labels.values, palette='viridis')\n"
     ]
    },
    {
     "data": {
      "image/png": "[encoded data removed]",
      "text/plain": [
       "<Figure size 800x600 with 1 Axes>"
      ]
     },
     "metadata": {},
     "output_type": "display_data"
    }
   ],
   "source": [
    "import matplotlib.pyplot as plt\n",
    "import seaborn as sns\n",
    "\n",
    "conteo_labels = data['label'].value_counts()\n",
    "\n",
    "sns.set(style='whitegrid')\n",
    "\n",
    "plt.figure(figsize=(8, 6))\n",
    "ax = sns.barplot(x=conteo_labels.index, y=conteo_labels.values, palette='viridis')\n",
    "\n",
    "plt.title('Conteo de las Etiquetas', fontsize=16, fontweight='bold')\n",
    "plt.xlabel('Etiquetas', fontsize=14)\n",
    "plt.ylabel('Número de Filas', fontsize=14)\n",
    "\n",
    "for i in range(len(conteo_labels)):\n",
    "    ax.text(i, conteo_labels[i] + 0.05, str(conteo_labels[i]), ha='center', va='bottom', fontsize=12)\n",
    "\n",
    "plt.xticks(rotation=0, fontsize=12)\n",
    "plt.yticks(fontsize=12)\n",
    "sns.despine(left=True, bottom=True)\n",
    "\n",
    "\n",
    "plt.show()"
   ]
  },
  {
   "cell_type": "code",
   "execution_count": 4,
   "id": "c49c85e3-4d0e-4dd0-aaf7-f599c0fbf922",
   "metadata": {},
   "outputs": [
    {
     "name": "stdout",
     "output_type": "stream",
     "text": [
      "Requirement already satisfied: nltk in /home/saulo/miniconda3/envs/new-kgtk-env/lib/python3.9/site-packages (3.9.1)\n",
      "Requirement already satisfied: click in /home/saulo/miniconda3/envs/new-kgtk-env/lib/python3.9/site-packages (from nltk) (8.1.7)\n",
      "Requirement already satisfied: joblib in /home/saulo/miniconda3/envs/new-kgtk-env/lib/python3.9/site-packages (from nltk) (1.4.2)\n",
      "Requirement already satisfied: regex>=2021.8.3 in /home/saulo/miniconda3/envs/new-kgtk-env/lib/python3.9/site-packages (from nltk) (2024.7.24)\n",
      "Requirement already satisfied: tqdm in /home/saulo/miniconda3/envs/new-kgtk-env/lib/python3.9/site-packages (from nltk) (4.66.4)\n"
     ]
    }
   ],
   "source": [
    "!pip install nltk"
   ]
  },
  {
   "cell_type": "code",
   "execution_count": 5,
   "id": "88e80d1b-13db-499d-ad43-8c1191917e03",
   "metadata": {},
   "outputs": [
    {
     "name": "stdout",
     "output_type": "stream",
     "text": [
      "Requirement already satisfied: matplotlib in /home/saulo/miniconda3/envs/new-kgtk-env/lib/python3.9/site-packages (3.9.1)\n",
      "Requirement already satisfied: contourpy>=1.0.1 in /home/saulo/miniconda3/envs/new-kgtk-env/lib/python3.9/site-packages (from matplotlib) (1.2.1)\n",
      "Requirement already satisfied: cycler>=0.10 in /home/saulo/miniconda3/envs/new-kgtk-env/lib/python3.9/site-packages (from matplotlib) (0.12.1)\n",
      "Requirement already satisfied: fonttools>=4.22.0 in /home/saulo/miniconda3/envs/new-kgtk-env/lib/python3.9/site-packages (from matplotlib) (4.53.1)\n",
      "Requirement already satisfied: kiwisolver>=1.3.1 in /home/saulo/miniconda3/envs/new-kgtk-env/lib/python3.9/site-packages (from matplotlib) (1.4.5)\n",
      "Requirement already satisfied: numpy>=1.23 in /home/saulo/miniconda3/envs/new-kgtk-env/lib/python3.9/site-packages (from matplotlib) (1.26.4)\n",
      "Requirement already satisfied: packaging>=20.0 in /home/saulo/miniconda3/envs/new-kgtk-env/lib/python3.9/site-packages (from matplotlib) (24.1)\n",
      "Requirement already satisfied: pillow>=8 in /home/saulo/miniconda3/envs/new-kgtk-env/lib/python3.9/site-packages (from matplotlib) (10.3.0)\n",
      "Requirement already satisfied: pyparsing>=2.3.1 in /home/saulo/miniconda3/envs/new-kgtk-env/lib/python3.9/site-packages (from matplotlib) (3.1.2)\n",
      "Requirement already satisfied: python-dateutil>=2.7 in /home/saulo/miniconda3/envs/new-kgtk-env/lib/python3.9/site-packages (from matplotlib) (2.9.0)\n",
      "Requirement already satisfied: importlib-resources>=3.2.0 in /home/saulo/miniconda3/envs/new-kgtk-env/lib/python3.9/site-packages (from matplotlib) (6.4.0)\n",
      "Requirement already satisfied: zipp>=3.1.0 in /home/saulo/miniconda3/envs/new-kgtk-env/lib/python3.9/site-packages (from importlib-resources>=3.2.0->matplotlib) (3.19.2)\n",
      "Requirement already satisfied: six>=1.5 in /home/saulo/miniconda3/envs/new-kgtk-env/lib/python3.9/site-packages (from python-dateutil>=2.7->matplotlib) (1.16.0)\n",
      "Note: you may need to restart the kernel to use updated packages.\n"
     ]
    }
   ],
   "source": [
    "pip install matplotlib"
   ]
  },
  {
   "cell_type": "code",
   "execution_count": 6,
   "id": "fd03bc33-1e60-42b9-a2cd-ade9e9350625",
   "metadata": {},
   "outputs": [
    {
     "name": "stdout",
     "output_type": "stream",
     "text": [
      "Requirement already satisfied: pandas in /home/saulo/miniconda3/envs/new-kgtk-env/lib/python3.9/site-packages (2.2.2)\n",
      "Requirement already satisfied: numpy>=1.22.4 in /home/saulo/miniconda3/envs/new-kgtk-env/lib/python3.9/site-packages (from pandas) (1.26.4)\n",
      "Requirement already satisfied: python-dateutil>=2.8.2 in /home/saulo/miniconda3/envs/new-kgtk-env/lib/python3.9/site-packages (from pandas) (2.9.0)\n",
      "Requirement already satisfied: pytz>=2020.1 in /home/saulo/miniconda3/envs/new-kgtk-env/lib/python3.9/site-packages (from pandas) (2024.1)\n",
      "Requirement already satisfied: tzdata>=2022.7 in /home/saulo/miniconda3/envs/new-kgtk-env/lib/python3.9/site-packages (from pandas) (2024.1)\n",
      "Requirement already satisfied: six>=1.5 in /home/saulo/miniconda3/envs/new-kgtk-env/lib/python3.9/site-packages (from python-dateutil>=2.8.2->pandas) (1.16.0)\n",
      "Note: you may need to restart the kernel to use updated packages.\n"
     ]
    }
   ],
   "source": [
    "pip install pandas"
   ]
  },
  {
   "cell_type": "code",
   "execution_count": 9,
   "id": "ff75d570",
   "metadata": {},
   "outputs": [],
   "source": [
    "from nltk.stem import PorterStemmer\n",
    "from nltk.tokenize import word_tokenize\n",
    "\n",
    "stemmer = PorterStemmer()\n",
    "\n",
    "def stem_text(text):\n",
    "    words = word_tokenize(text)\n",
    "    stemmed_words = [stemmer.stem(word) for word in words]\n",
    "    return ' '.join(stemmed_words)"
   ]
  },
  {
   "cell_type": "code",
   "execution_count": null,
   "id": "05fbc958-530e-47ba-b537-85bedab742cd",
   "metadata": {},
   "outputs": [],
   "source": [
    "#!pip install mlflow"
   ]
  },
  {
   "cell_type": "code",
   "execution_count": null,
   "id": "319d717d-955c-4cd4-a9ab-74833a69fdf0",
   "metadata": {},
   "outputs": [],
   "source": [
    "#!pip install --upgrade numpy tensorflow keras mlflow"
   ]
  },
  {
   "cell_type": "code",
   "execution_count": 15,
   "id": "033a5dd1",
   "metadata": {},
   "outputs": [
    {
     "name": "stdout",
     "output_type": "stream",
     "text": [
      "NumPy version: 1.26.4\n",
      "TensorFlow version: 2.17.0\n",
      "h5py está instalado correctamente.\n"
     ]
    },
    {
     "name": "stderr",
     "output_type": "stream",
     "text": [
      "2024-08-23 12:10:44.845411: W external/local_tsl/tsl/framework/cpu_allocator_impl.cc:83] Allocation of 37959416 exceeds 10% of free system memory.\n"
     ]
    },
    {
     "name": "stdout",
     "output_type": "stream",
     "text": [
      "\u001b[1m214/214\u001b[0m \u001b[32m━━━━━━━━━━━━━━━━━━━━\u001b[0m\u001b[37m\u001b[0m \u001b[1m224s\u001b[0m 1s/step - accuracy: 0.6092 - loss: 0.6614\n",
      "\u001b[1m54/54\u001b[0m \u001b[32m━━━━━━━━━━━━━━━━━━━━\u001b[0m\u001b[37m\u001b[0m \u001b[1m12s\u001b[0m 225ms/step - accuracy: 0.6225 - loss: 0.6349\n",
      "Test Accuracy: 0.6288719773292542\n",
      "\u001b[1m54/54\u001b[0m \u001b[32m━━━━━━━━━━━━━━━━━━━━\u001b[0m\u001b[37m\u001b[0m \u001b[1m12s\u001b[0m 213ms/step\n",
      "F1-score:\n",
      "               precision    recall  f1-score   support\n",
      "\n",
      "           0       0.62      0.97      0.75      1007\n",
      "           1       0.76      0.14      0.24       704\n",
      "\n",
      "    accuracy                           0.63      1711\n",
      "   macro avg       0.69      0.56      0.50      1711\n",
      "weighted avg       0.68      0.63      0.54      1711\n",
      "\n"
     ]
    },
    {
     "name": "stderr",
     "output_type": "stream",
     "text": [
      "/home/saulo/miniconda3/envs/new-kgtk-env/lib/python3.9/site-packages/mlflow/types/utils.py:406: UserWarning: Hint: Inferred schema contains integer column(s). Integer columns in Python cannot represent missing values. If your input data contains missing values at inference time, it will be encoded as floats and will cause a schema enforcement error. The best way to avoid this problem is to infer the model schema based on a realistic data sample (training dataset) that includes missing values. Alternatively, you can declare integer columns as doubles (float64) whenever these columns may have missing values. See `Handling Integers With Missing Values <https://www.mlflow.org/docs/latest/models.html#handling-integers-with-missing-values>`_ for more details.\n",
      "  warnings.warn(\n",
      "2024/08/23 12:14:57 WARNING mlflow.keras.save: You are saving a Keras model without specifying model signature.\n",
      "2024/08/23 12:15:14 WARNING mlflow.utils.environment: Encountered an unexpected error while inferring pip requirements (model URI: /tmp/tmpvy48hnvu/model, flavor: keras). Fall back to return ['keras==3.5.0']. Set logging level to DEBUG to see the full traceback. \n",
      "/home/saulo/miniconda3/envs/new-kgtk-env/lib/python3.9/site-packages/_distutils_hack/__init__.py:26: UserWarning: Setuptools is replacing distutils.\n",
      "  warnings.warn(\"Setuptools is replacing distutils.\")\n",
      "2024/08/23 12:15:14 WARNING mlflow.models.model: Input example should be provided to infer model signature if the model signature is not provided when logging the model.\n",
      "2024/08/23 12:15:16 INFO mlflow.models.evaluation.default_evaluator: The evaluation dataset is inferred as binary dataset, positive label is 1, negative label is 0.\n",
      "2024/08/23 12:15:16 INFO mlflow.models.evaluation.default_evaluator: Testing metrics on first row...\n",
      "2024/08/23 12:15:17 WARNING mlflow.models.evaluation.default_evaluator: SHAP or matplotlib package is not installed, so model explainability insights will not be logged.\n",
      "2024/08/23 12:15:17 INFO mlflow.tracking._tracking_service.client: 🏃 View run RNN_Example at: http://127.0.0.1:8080/#/experiments/368647962887922541/runs/5db91a01cf924ddbbbca6174bbbf1e03.\n",
      "2024/08/23 12:15:17 INFO mlflow.tracking._tracking_service.client: 🧪 View experiment at: http://127.0.0.1:8080/#/experiments/368647962887922541.\n"
     ]
    },
    {
     "name": "stdout",
     "output_type": "stream",
     "text": [
      "Run ID: 5db91a01cf924ddbbbca6174bbbf1e03\n",
      "Modelo registrado exitosamente en MLflow.\n"
     ]
    },
    {
     "data": {
      "text/plain": [
       "<Figure size 1050x700 with 0 Axes>"
      ]
     },
     "metadata": {},
     "output_type": "display_data"
    }
   ],
   "source": [
    "import subprocess\n",
    "import sys\n",
    "import mlflow\n",
    "import mlflow.keras\n",
    "from sklearn.model_selection import train_test_split\n",
    "from sklearn.metrics import classification_report\n",
    "from tensorflow.keras.preprocessing.text import Tokenizer\n",
    "from tensorflow.keras.preprocessing.sequence import pad_sequences\n",
    "from tensorflow.keras.models import Sequential\n",
    "from tensorflow.keras.layers import Embedding, SimpleRNN, Dense, Dropout\n",
    "import numpy as np\n",
    "import pandas as pd\n",
    "from mlflow.data.pandas_dataset import PandasDataset\n",
    "\n",
    "import tensorflow as tf\n",
    "# Verifica las versiones de numpy y tensorflow\n",
    "print(\"NumPy version:\", np.__version__)\n",
    "print(\"TensorFlow version:\", tf.__version__)\n",
    "\n",
    "# Verificar la instalación de h5py\n",
    "try:\n",
    "    import h5py\n",
    "    print(\"h5py está instalado correctamente.\")\n",
    "except ImportError:\n",
    "    print(\"h5py no está instalado. Intenta instalarlo nuevamente.\")\n",
    "\n",
    "X = data['text'].values\n",
    "y = data['label'].values\n",
    "\n",
    "tokenizer = Tokenizer()\n",
    "tokenizer.fit_on_texts(X)\n",
    "X_seq = tokenizer.texts_to_sequences(X)\n",
    "X_pad = pad_sequences(X_seq)\n",
    "\n",
    "X_train, X_test, y_train, y_test = train_test_split(X_pad, y, test_size=0.2, random_state=42)\n",
    "\n",
    "# Creación del modelo RNN\n",
    "vocab_size = len(tokenizer.word_index) + 1\n",
    "embedding_dim = 50\n",
    "max_length = X_pad.shape[1]\n",
    "\n",
    "model = Sequential()\n",
    "model.add(Embedding(input_dim=vocab_size, output_dim=embedding_dim))\n",
    "model.add(SimpleRNN(units=64, activation='relu', return_sequences=True))\n",
    "model.add(Dropout(0.5))\n",
    "model.add(SimpleRNN(units=32, activation='relu'))\n",
    "model.add(Dense(units=1, activation='sigmoid'))\n",
    "\n",
    "model.compile(optimizer='adam', loss='binary_crossentropy', metrics=['accuracy'])\n",
    "\n",
    "# Configurar MLflow\n",
    "remote_server_uri = \"http://127.0.0.1:8080\" \n",
    "mlflow.set_tracking_uri(remote_server_uri)\n",
    "\n",
    "mlflow.set_experiment(\"classification_of_offensive_language20\")\n",
    "\n",
    "# Iniciar una nueva ejecución\n",
    "with mlflow.start_run(run_name=\"RNN_Example\"):\n",
    "    # Registrar parámetros del modelo\n",
    "    mlflow.log_param(\"vocab_size\", vocab_size)\n",
    "    mlflow.log_param(\"embedding_dim\", embedding_dim)\n",
    "    mlflow.log_param(\"max_length\", max_length)\n",
    "    mlflow.log_param(\"units_layer_1\", 64)\n",
    "    mlflow.log_param(\"units_layer_2\", 32)\n",
    "    mlflow.log_param(\"optimizer\", \"adam\")\n",
    "    mlflow.log_param(\"loss\", \"binary_crossentropy\")\n",
    "    mlflow.log_param(\"epochs\", 1)\n",
    "    mlflow.log_param(\"batch_size\", 32)\n",
    "    \n",
    "    # Entrenar modelo sin división de validación\n",
    "    history = model.fit(X_train, y_train, epochs=1, batch_size=32)\n",
    "    \n",
    "    # Evaluación del modelo\n",
    "    loss, accuracy = model.evaluate(X_test, y_test)\n",
    "    print(\"Test Accuracy:\", accuracy)\n",
    "    \n",
    "    # Registrar métricas del modelo\n",
    "    mlflow.log_metric(\"loss\", loss)\n",
    "    mlflow.log_metric(\"accuracy\", accuracy)\n",
    "    \n",
    "    # Predicciones del modelo en el conjunto de prueba\n",
    "    y_pred = model.predict(X_test)\n",
    "    y_pred_binary = (y_pred > 0.5).astype(int)\n",
    "    \n",
    "    # Calcular el F1-score\n",
    "    f1_score_result = classification_report(y_test, y_pred_binary, output_dict=True)\n",
    "    print(\"F1-score:\\n\", classification_report(y_test, y_pred_binary))\n",
    "    \n",
    "    # Registrar métricas adicionales\n",
    "    mlflow.log_metric(\"f1_score\", f1_score_result[\"1\"][\"f1-score\"])\n",
    "    \n",
    "    # Crear el DataFrame de evaluación\n",
    "    eval_data = pd.DataFrame(X_test, columns=[f'feature_{i}' for i in range(X_test.shape[1])])\n",
    "    eval_data[\"label\"] = y_test\n",
    "    eval_data[\"predictions\"] = y_pred_binary\n",
    "\n",
    "    # Crear la instancia de PandasDataset\n",
    "    pd_dataset = mlflow.data.from_pandas(\n",
    "        eval_data, predictions=\"predictions\", targets=\"label\"\n",
    "    )\n",
    "\n",
    "    # Registrar el Dataset en el mismo run\n",
    "    mlflow.log_input(pd_dataset, context=\"training\")\n",
    "    \n",
    "    # Guardar el modelo en formato .keras\n",
    "    model_path = 'model_path/model.keras'\n",
    "    model.save(model_path)\n",
    "\n",
    "    # Registrar el modelo\n",
    "    mlflow.keras.log_model(model, \"model\")\n",
    "\n",
    "    # Ejecutar la evaluación\n",
    "    result = mlflow.evaluate(data=pd_dataset, model_type=\"classifier\")\n",
    "    \n",
    "    # Guardar el run_id\n",
    "    run_id = mlflow.active_run().info.run_id\n",
    "    print(f\"Run ID: {run_id}\")\n",
    "\n",
    "print(\"Modelo registrado exitosamente en MLflow.\")\n"
   ]
  },
  {
   "cell_type": "code",
   "execution_count": null,
   "id": "223c5a35",
   "metadata": {},
   "outputs": [],
   "source": [
    "# Preprocesamiento de datos para el nuevo conjunto \n",
    "X_new = test['text'].values  \n",
    "X_new_seq = tokenizer.texts_to_sequences(X_new)\n",
    "X_new_pad = pad_sequences(X_new_seq, maxlen=max_length)  \n",
    "\n",
    "# Predicciones del modelo en el nuevo conjunto de datos\n",
    "predictions = model.predict(X_new_pad)\n",
    "\n",
    "# Convertir las probabilidades predichas en etiquetas binarias usando un umbral (por ejemplo, 0.5)\n",
    "binary_predictions = (predictions > 0.5).astype(int)\n",
    "\n",
    "print(\"Predicciones:\", binary_predictions)"
   ]
  },
  {
   "cell_type": "code",
   "execution_count": null,
   "id": "1cf433d0",
   "metadata": {},
   "outputs": [],
   "source": [
    "ids = test['id'].values\n",
    "\n",
    "predictions_df = pd.DataFrame({'id': ids, 'label': binary_predictions.flatten()})  # Suponiendo que binary_predictions es un array numpy\n",
    "\n",
    "predictions_df.to_csv('predictions.csv', index=False)\n",
    "\n",
    "print(\"Predicciones guardadas en predictions.csv\")"
   ]
  }
 ],
 "metadata": {
  "kernelspec": {
   "display_name": "Python 3 (ipykernel)",
   "language": "python",
   "name": "python3"
  },
  "language_info": {
   "codemirror_mode": {
    "name": "ipython",
    "version": 3
   },
   "file_extension": ".py",
   "mimetype": "text/x-python",
   "name": "python",
   "nbconvert_exporter": "python",
   "pygments_lexer": "ipython3",
   "version": "3.9.18"
  }
 },
 "nbformat": 4,
 "nbformat_minor": 5
}
